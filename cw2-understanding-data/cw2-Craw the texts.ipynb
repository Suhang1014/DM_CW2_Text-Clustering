{
 "cells": [
  {
   "cell_type": "markdown",
   "metadata": {},
   "source": [
    "# Data Mining cw2 - Understanding Data"
   ]
  },
  {
   "cell_type": "code",
   "execution_count": 8,
   "metadata": {},
   "outputs": [],
   "source": [
    "import os\n",
    "from bs4 import BeautifulSoup"
   ]
  },
  {
   "cell_type": "code",
   "execution_count": 122,
   "metadata": {},
   "outputs": [],
   "source": [
    "def extract_text_by_bs(doc_text):\n",
    "    \"\"\"提取html页面的所有文本信息。\n",
    "    参考：\n",
    "    http://stackoverflow.com/questions/328356/extracting-text-from-html-file-using-python\n",
    "    \"\"\"\n",
    "    title, text = '', ''\n",
    "    soup = BeautifulSoup(doc_text, 'lxml')\n",
    "    try:\n",
    "        for script in soup([\"script\", \"style\"]):\n",
    "            script.extract()\n",
    "    except Exception as error:\n",
    "        print(error)\n",
    "        pass\n",
    "    else:\n",
    "        try:\n",
    "            # get text\n",
    "            title = soup.title.string\n",
    "        except Exception as error:\n",
    "            print(error)\n",
    "            pass\n",
    "        text = soup.get_text()\n",
    "        print(text)\n",
    "        lines = (line.strip() for line in text.splitlines())\n",
    "        chunks = (phrase.strip() for line in lines for phrase in line.split(\"  \"))\n",
    "        text = ' '.join(chunk for chunk in chunks if chunk)\n",
    "    return title, text"
   ]
  },
  {
   "cell_type": "code",
   "execution_count": 114,
   "metadata": {},
   "outputs": [],
   "source": [
    "# 打开双层文件夹，并依次读取html文件\n",
    "rootdir = '/Users/suhang/Documents/GitHub/COMP6237-Data-Mining/cw2-understanding-data/gap-html'\n",
    "texts_list = []\n",
    "folders = os.listdir(rootdir)\n",
    "for folder in folders:\n",
    "    if folder != '.DS_Store':\n",
    "        folder_path = os.path.join(rootdir, folder)\n",
    "        files = os.listdir(folder_path)\n",
    "        files.sort()\n",
    "        texts = []\n",
    "        for file in files:\n",
    "            file_path = os.path.join(folder_path, file)\n",
    "            if os.path.isfile(file_path):\n",
    "                with open(file_path, 'r', encoding='utf-8') as f:\n",
    "                    this_title, this_text = extract_text_by_bs(f)\n",
    "                    texts.append(this_text)\n",
    "        texts_list.append(texts)"
   ]
  },
  {
   "cell_type": "code",
   "execution_count": 116,
   "metadata": {},
   "outputs": [],
   "source": [
    "for i in range(0, len(texts_list)):\n",
    "    raw_text = ''\n",
    "    for j in range(0, len(texts_list[i])):\n",
    "        raw_text += texts_list[i][j] \n",
    "    file_name = '/Users/suhang/Documents/GitHub/COMP6237-Data-Mining/cw2-understanding-data/raw_text/' + folders[i] + '.txt'\n",
    "    with open(file_name, 'w') as f:\n",
    "        f.write(raw_text)"
   ]
  },
  {
   "cell_type": "code",
   "execution_count": 46,
   "metadata": {},
   "outputs": [],
   "source": [
    "whole_file_name = '/Users/suhang/Documents/GitHub/COMP6237-Data-Mining/cw2-understanding-data/raw_text/whole_text.txt'\n",
    "with open(whole_file_name, 'w') as f:\n",
    "    for i in range(0, len(texts)):\n",
    "        f.write('File ' + str(i+1) + ':\\n')\n",
    "        f.write(texts[i])\n",
    "        f.write('\\n\\n')"
   ]
  },
  {
   "cell_type": "code",
   "execution_count": 120,
   "metadata": {},
   "outputs": [
    {
     "name": "stdout",
     "output_type": "stream",
     "text": [
      "['gap_udEIAAAAQAAJ', 'gap_TgpMAAAAYAAJ', 'gap_IlUMAQAAMAAJ', 'gap_CSEUAAAAYAAJ', '.DS_Store', 'gap_VPENAAAAQAAJ', 'gap_XmqHlMECi6kC', 'gap_CnnUAAAAMAAJ', 'gap_GIt0HMhqjRgC', 'gap_ogsNAAAAIAAJ', 'gap_MEoWAAAAYAAJ', 'gap_DqQNAAAAYAAJ', 'gap_aLcWAAAAQAAJ', 'gap_DhULAAAAYAAJ', 'gap_pX5KAAAAYAAJ', 'gap_9ksIAAAAQAAJ', 'gap_WORMAAAAYAAJ', 'gap_y-AvAAAAYAAJ', 'gap_-C0BAAAAQAAJ', 'gap_RqMNAAAAYAAJ', 'gap_fnAMAAAAYAAJ', 'gap_2X5KAAAAYAAJ', 'gap_m_6B1DkImIoC', 'gap_Bdw_AAAAYAAJ', 'gap_dIkBAAAAQAAJ']\n"
     ]
    }
   ],
   "source": [
    "print(folders)"
   ]
  },
  {
   "cell_type": "code",
   "execution_count": 119,
   "metadata": {},
   "outputs": [
    {
     "name": "stdout",
     "output_type": "stream",
     "text": [
      "OCR Output 6 DEDICATION. what obscure, because he was anxious that his works shouldplease his friends, the Veranioli and the Fabulli. At the sametime this my importunity may effect, what you complained of mynot having done in another too forward epistle of mine; it willput upon record, and let all the world know, on what terms ofequality you live with us. You, who have had the honour of atriumph, and of the censorship, have been six times consul, andhave shared in the tribunate; and, what is still more honourable,whilst you held them in conjunction with your father, you havepresided over the equestrian order, and have been the prefect ofthe praetorians: 5 all this you have done for the service of therepublic, and at the same time, have regarded me as a fellow-soldier and a messmate. Nor has the extent of your prosperity produced any change inyou, except that it has given you the power of doing good to theutmost of your wishes. And whilst all these circumstancesincrease the veneration which other persons feel for you, withrespect to myself, they have made me so bold as to wish tobecome more familiar. You must, therefore, place this to yourown account, and blame yourself for any fault of this kind that Imay commit. But although I have laid aside my blushes,6 Ihave not gained my object; for you still awe me, and keep me ata distance, by the majesty of your understanding. In no one doesthe force of eloquence and of tribunitian oratory blaze out morepowerfully! With what glowing language do you thunder forththe praises of your father! How dearly do you love your brother!How admirable is your talent for poetry! What a fertility ofgenius do you possess, so as to enable you to imitate your bro­ther! But who is there that is bold enough to form an estimate onthese points, if he is to be judged by you, and more especially, ifyou are challenged to do so? For the case of those who merelypublish their works is very different from that of those whoexpressly dedicate them to you. In the former case I might say, 5 The narrative of Suetonius may serve to illustrate the observation ofPliny; \"Triumphavit (Titus) cum patre, censuramque gessit una. Eidemcollega et in tribunicia potestate, et in septem consularibus fuit. Recep-taque ad se prope omnium officiorum cura, cum patris nomine et epistolasipse dictaret, et edicta conscriberet, orationesque in Senatu recitaret etiamquaestoris vice, prefecturam quoque prtetorii suscepit, nunquam ad id tempus,nisi ab Equite Romano, administratum:\" Valpy's ed. p. 946. 6 \" Perfricui faciem;\" see note in Valpy, p. 176.\n"
     ]
    }
   ],
   "source": [
    "\n",
    "print(texts_list[0][9])"
   ]
  },
  {
   "cell_type": "code",
   "execution_count": 147,
   "metadata": {},
   "outputs": [],
   "source": [
    "#GET SPAN TEXT\n",
    "def extract_spantext_by_bs(doc_text):\n",
    "    text = ''\n",
    "    soup = BeautifulSoup(doc_text, 'lxml')\n",
    "    try:\n",
    "        for script in soup([\"script\", \"style\"]):\n",
    "            script.extract()\n",
    "    except Exception as error:\n",
    "        print(error)\n",
    "        pass\n",
    "    else:\n",
    "        try:\n",
    "            # get text\n",
    "            title = soup.title.string\n",
    "        except Exception as error:\n",
    "            print(error)\n",
    "            pass\n",
    "        line_spans = soup.find_all('span', {'class':'ocr_line'})\n",
    "        for line_span in line_spans:\n",
    "            word_spans = line_span.find_all('span', {'class': 'ocr_cinfo'})\n",
    "            for word_span in word_spans:\n",
    "                word = word_span.get_text()\n",
    "                text = text + word + ' '\n",
    "#         lines = (line.strip() for line in text.splitlines())\n",
    "#         chunks = (phrase.strip() for line in lines for phrase in line.split(\"  \"))\n",
    "#         text = ' '.join(chunk for chunk in chunks if chunk)\n",
    "    return text"
   ]
  },
  {
   "cell_type": "code",
   "execution_count": 148,
   "metadata": {},
   "outputs": [
    {
     "name": "stdout",
     "output_type": "stream",
     "text": [
      "6 DEDICATION. what obscure, because he was anxious that his works should please his friends, the Veranioli and the Fabulli. At the same time this my importunity may effect, what you complained of my not having done in another too forward epistle of mine; it will put upon record, and let all the world know, on what terms of equality you live with us. You, who have had the honour of a triumph, and of the censorship, have been six times consul, and have shared in the tribunate; and, what is still more honourable, whilst you held them in conjunction with your father, you have presided over the equestrian order, and have been the prefect of the praetorians: 5 all this you have done for the service of the republic, and at the same time, have regarded me as a fellow- soldier and a messmate. Nor has the extent of your prosperity produced any change in you, except that it has given you the power of doing good to the utmost of your wishes. And whilst all these circumstances increase the veneration which other persons feel for you, with respect to myself, they have made me so bold as to wish to become more familiar. You must, therefore, place this to your own account, and blame yourself for any fault of this kind that I may commit. But although I have laid aside my blushes,6 I have not gained my object; for you still awe me, and keep me at a distance, by the majesty of your understanding. In no one does the force of eloquence and of tribunitian oratory blaze out more powerfully! With what glowing language do you thunder forth the praises of your father! How dearly do you love your brother! How admirable is your talent for poetry! What a fertility of genius do you possess, so as to enable you to imitate your bro ther! But who is there that is bold enough to form an estimate on these points, if he is to be judged by you, and more especially, if you are challenged to do so? For the case of those who merely publish their works is very different from that of those who expressly dedicate them to you. In the former case I might say, 5 The narrative of Suetonius may serve to illustrate the observation of Pliny; \"Triumphavit (Titus) cum patre, censuramque gessit una. Eidem collega et in tribunicia potestate, et in septem consularibus fuit. Recep- taque ad se prope omnium officiorum cura, cum patris nomine et epistolas ipse dictaret, et edicta conscriberet, orationesque in Senatu recitaret etiam quaestoris vice, prefecturam quoque prtetorii suscepit, nunquam ad id tempus, nisi ab Equite Romano, administratum:\" Valpy's ed. p. 946. 6 \" Perfricui faciem;\" see note in Valpy, p. 176. \n"
     ]
    }
   ],
   "source": [
    "# Test\n",
    "test_path = '/Users/suhang/Documents/GitHub/COMP6237-Data-Mining/cw2-understanding-data/gap-html/gap_udEIAAAAQAAJ/00000010.html'\n",
    "with open(test_path, 'r', encoding='utf-8') as f:\n",
    "    test_text = extract_spantext_by_bs(f)\n",
    "    print(test_text)"
   ]
  },
  {
   "cell_type": "code",
   "execution_count": 153,
   "metadata": {},
   "outputs": [
    {
     "name": "stdout",
     "output_type": "stream",
     "text": [
      "chapter\n"
     ]
    }
   ],
   "source": [
    "from enchant import checker\n",
    "\n",
    "\n",
    "# 检查行尾是否为正确单词\n",
    "def spell_check(word):\n",
    "    chkr = checker.SpellChecker('en_US')\n",
    "    chkr.set_text(word)\n",
    "    for err in chkr:\n",
    "        sug = err.suggest()[0]\n",
    "        err.replace(sug)\n",
    "\n",
    "    c = chkr.get_text()\n",
    "    \n",
    "    return c\n",
    "\n",
    "print(spell_check('chpter'))"
   ]
  }
 ],
 "metadata": {
  "kernelspec": {
   "display_name": "Python 3",
   "language": "python",
   "name": "python3"
  },
  "language_info": {
   "codemirror_mode": {
    "name": "ipython",
    "version": 3
   },
   "file_extension": ".py",
   "mimetype": "text/x-python",
   "name": "python",
   "nbconvert_exporter": "python",
   "pygments_lexer": "ipython3",
   "version": "3.7.2"
  }
 },
 "nbformat": 4,
 "nbformat_minor": 2
}
