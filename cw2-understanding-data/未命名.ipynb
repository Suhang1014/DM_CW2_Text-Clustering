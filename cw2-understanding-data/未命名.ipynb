{
 "cells": [
  {
   "cell_type": "code",
   "execution_count": 1,
   "metadata": {},
   "outputs": [],
   "source": [
    "%matplotlib inline\n",
    "import pandas as pd\n",
    "import matplotlib.pyplot as plt\n",
    "import nltk\n",
    "from nltk.corpus import words\n",
    "from nltk.corpus import stopwords\n",
    "from nltk.tokenize import sent_tokenize \n",
    "from nltk.tokenize import word_tokenize\n",
    "from nltk.stem.snowball import SnowballStemmer"
   ]
  },
  {
   "cell_type": "code",
   "execution_count": 3,
   "metadata": {},
   "outputs": [],
   "source": [
    "# filter stopwords\n",
    "stopwords = stopwords.words('english')\n",
    "en_words = set(words.words())\n",
    "stemmer = SnowballStemmer('english')\n",
    "titles = ['Dictionary of Greek and Roman geography',\n",
    "          'The History of Tacitus Book I',\n",
    "          'The history of the Peloponnesia war Vol. II',\n",
    "          'The history of Rome Vol. I',\n",
    "          'The history of the decline and fall of the Roman Empire Vol. III',\n",
    "          'The whole genuine works of Flavius Josephus Vol. II',\n",
    "          'The Description of Greece',\n",
    "          'LIVY Vol. III',\n",
    "          'Gibbon\\'s History of the Decline and Fall of The Roman Empire Vol. IV',\n",
    "          'Gibbon\\'s History of the Decline and Fall of The Roman Empire Vol. II',\n",
    "          'The Historical Annals of Cornelius Tacitus Vol. I',\n",
    "          'LIVY Vol. V',\n",
    "          'The whole genuine works of Flavius Josephus Vol. I',\n",
    "          'The history of the decline and fall Vol. V',\n",
    "          'The Histories of Caius Cornelius Tacitus',\n",
    "          'The Decline and Fall of the Roman Empire',\n",
    "          'The history of the decline and fall of the Roman Empire Vol. I',\n",
    "          'The Revolution Book IV',\n",
    "          'The history of the Peloponnesia war Vol. I',\n",
    "          'Titus Livius\\' Roman History',\n",
    "          'The works of Josephus Vol. IV',\n",
    "          'The works of Cornelius Tacitus Vol. IV',\n",
    "          'The first and Thirty-Third books of Pliny\\'s Natural History',\n",
    "          'The works of Josephus Vol. III']"
   ]
  },
  {
   "cell_type": "code",
   "execution_count": 11,
   "metadata": {},
   "outputs": [],
   "source": [
    "def read_raw_text(path):\n",
    "    \"\"\"\n",
    "    读取txt文件\n",
    "    \"\"\"\n",
    "    with open(path, 'r') as f:\n",
    "        raw_text = f.read()"
   ]
  },
  {
   "cell_type": "code",
   "execution_count": 6,
   "metadata": {},
   "outputs": [],
   "source": [
    "def tokenize_and_filter_punc_stem(raw_text):\n",
    "    \"\"\"\n",
    "    提取单词并过滤掉所有特殊符号和标点符号，然后提取词干\n",
    "    \"\"\"\n",
    "    tokens = nltk.wordpunct_tokenize(raw_text)\n",
    "    text = nltk.Text(tokens)\n",
    "    words = [w.lower() for w in text if w.isalpha()]\n",
    "    stems = [stemmer.stem(w) for w in words]\n",
    "    \n",
    "    return stems"
   ]
  },
  {
   "cell_type": "code",
   "execution_count": 9,
   "metadata": {},
   "outputs": [],
   "source": [
    "class BookObject(object):\n",
    "    \"\"\"\n",
    "    每一本书籍建立一个类的对象\n",
    "    \"\"\"\n",
    "    def __init__(self, title, contents, raw_text=''):\n",
    "        self.__title = title\n",
    "        self.__contents = contents\n",
    "        self.__sortedWords = None\n",
    "        self.__raw_text = raw_text\n",
    "    @property\n",
    "    def sortedWords(self):\n",
    "        if self.__sortedWords is None:\n",
    "            pass\n",
    "        \n",
    "        return self.__contents.keys()\n",
    "    \n",
    "    @property\n",
    "    def raw_text(self):\n",
    "        return self.__raw_texts.decode('utf-8')\n",
    "    \n",
    "    @property\n",
    "    def contents(self):\n",
    "        return self.__contents.keys()\n",
    "            "
   ]
  },
  {
   "cell_type": "code",
   "execution_count": null,
   "metadata": {},
   "outputs": [],
   "source": [
    "class TextClassification(object):\n",
    "    \"\"\"\n",
    "    添加方法：\n",
    "    添加一本书\n",
    "    tf-idf方法\n",
    "    k-means方法\n",
    "    hierachical方法\n",
    "    \"\"\"\n",
    "    def __init__(self):\n",
    "        self.__stems = []\n",
    "        self.__books = []\n",
    "\n",
    "    def add_a_book(self, book):\n",
    "        self.__book.append(book)\n",
    "        \n",
    "    "
   ]
  }
 ],
 "metadata": {
  "kernelspec": {
   "display_name": "Python 3",
   "language": "python",
   "name": "python3"
  },
  "language_info": {
   "codemirror_mode": {
    "name": "ipython",
    "version": 3
   },
   "file_extension": ".py",
   "mimetype": "text/x-python",
   "name": "python",
   "nbconvert_exporter": "python",
   "pygments_lexer": "ipython3",
   "version": "3.7.2"
  }
 },
 "nbformat": 4,
 "nbformat_minor": 2
}
